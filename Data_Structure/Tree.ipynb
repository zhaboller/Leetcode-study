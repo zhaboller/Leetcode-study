{
 "cells": [
  {
   "cell_type": "markdown",
   "id": "d39b7408",
   "metadata": {},
   "source": [
    "# Tree"
   ]
  },
  {
   "cell_type": "markdown",
   "id": "e32bdbf7",
   "metadata": {},
   "source": [
    "ref: https://www.educative.io/edpresso/binary-trees-in-python"
   ]
  },
  {
   "cell_type": "markdown",
   "id": "6f7b1eec",
   "metadata": {},
   "source": [
    "### What is tree? \n",
    "\n",
    "- non-linear data structures that represent nodes connected by edges\n",
    "- Each tree consists of a root node as the Parent node, and the left node and right node as Child nodes."
   ]
  },
  {
   "cell_type": "markdown",
   "id": "5a7fdac3",
   "metadata": {},
   "source": [
    "### What is binary tree?\n",
    "\n",
    "- A tree whose elements have at most two children is called a binary tree.\n",
    "- Each element in a binary tree can have only two children. \n",
    "- A node’s left child must have a value less than its parent’s value\n",
    "- A node’s right child must have a value greater than its parent value."
   ]
  },
  {
   "attachments": {
    "image.png": {
     "image/png": "[encoded data removed]"
    }
   },
   "cell_type": "markdown",
   "id": "a29fdf11",
   "metadata": {},
   "source": [
    "![image.png](attachment:image.png)"
   ]
  },
  {
   "cell_type": "markdown",
   "id": "29ccec32",
   "metadata": {},
   "source": [
    "### How to define a node in the tree\n",
    "\n",
    "- define a `Node` class:\n",
    "    - attribute `left` : left child\n",
    "    - attribute `right` : right child\n",
    "    - attribute `value`: the node's value\n",
    "- When creating a node, \n",
    "    - `value` must be entered\n",
    "    - `left` and `right` is optional"
   ]
  },
  {
   "cell_type": "code",
   "execution_count": 29,
   "id": "16c6f5fb",
   "metadata": {},
   "outputs": [],
   "source": [
    "class Node:\n",
    "    def __init__(self, data):\n",
    "        self.left = None\n",
    "        self.right = None\n",
    "        self.value = data\n",
    "    \n",
    "    # print the tree\n",
    "    def PrintTree(self):\n",
    "        print(self.data)"
   ]
  },
  {
   "cell_type": "code",
   "execution_count": 30,
   "id": "b8204052",
   "metadata": {},
   "outputs": [],
   "source": [
    "root = Node(27)"
   ]
  },
  {
   "cell_type": "markdown",
   "id": "4a424fe7",
   "metadata": {},
   "source": [
    "### How to insert a node?"
   ]
  },
  {
   "cell_type": "markdown",
   "id": "71a5f035",
   "metadata": {},
   "source": [
    "1. Compares the value of the node to the parent node \n",
    "2. Decides whether to add it as a left node or right node\n",
    "\n"
   ]
  },
  {
   "cell_type": "markdown",
   "id": "4f646b1e",
   "metadata": {},
   "source": [
    "- Each node in the tree is defined as class `Node`\n",
    "- Think from the root node A(5), A has two children B1(2), B2(13), B1 has two children B11(1) B12(7), and B2 has two chidren B21(12) and B22(20)\n",
    "- To insert a new value 14, put it two root node Node A (5), since it's larger than A, it triggers:\n",
    "    1. if right leaf of node A is none, put 14 as the new right leaf of node A\n",
    "    2. if right leaf of node A exists, pass this value 14 to the insert function of the existing right leaf. It passes to the lower level until it's be put inside the tree structure"
   ]
  },
  {
   "cell_type": "markdown",
   "id": "1d81e5d7",
   "metadata": {},
   "source": [
    "To insert a value to the tree structure\n",
    "\n",
    "- if the new item equals to the root node, insert there\n",
    "- if the new item lower than the root node\n",
    "    - if the root node does not have the left node, put the new item there\n",
    "    - if the root node has existing left node, pass this new item to the search function of the left node\n",
    "- if the new item is larger than the root node\n",
    "    - if the root node does not have the right node, put the new item there\n",
    "    - if the root node has existing right node, pass this new item to the search function of the right node"
   ]
  },
  {
   "cell_type": "code",
   "execution_count": 33,
   "id": "93ead485",
   "metadata": {},
   "outputs": [],
   "source": [
    "class Node:\n",
    "    \n",
    "    def __init__(self, data):\n",
    "        self.left = None\n",
    "        self.right = None\n",
    "        self.data = data\n",
    "    \n",
    "\n",
    "    def insert(self, data):\n",
    "        # Compare the new value with the parent node\n",
    "        if self.data:\n",
    "            if data < self.data:\n",
    "                if self.left is None:\n",
    "                    self.left = Node(data)\n",
    "                else:\n",
    "                    self.left.insert(data)\n",
    "            elif data > self.data:\n",
    "                if self.right is None:\n",
    "                    self.right = Node(data)\n",
    "                else:\n",
    "                    self.right.insert(data)\n",
    "        else:\n",
    "            self.data = data\n",
    "\n",
    "    # Print the tree\n",
    "    def PrintTree(self):\n",
    "        if self.left:\n",
    "            self.left.PrintTree()\n",
    "        print( self.data),\n",
    "        if self.right:\n",
    "            self.right.PrintTree()"
   ]
  },
  {
   "cell_type": "code",
   "execution_count": 34,
   "id": "3015f29a",
   "metadata": {},
   "outputs": [
    {
     "name": "stdout",
     "output_type": "stream",
     "text": [
      "10\n",
      "14\n",
      "19\n",
      "27\n",
      "31\n",
      "35\n"
     ]
    }
   ],
   "source": [
    "# Use the insert method to add nodes\n",
    "root = Node(27)\n",
    "root.insert(14)\n",
    "root.insert(35)\n",
    "root.insert(31)\n",
    "root.insert(10)\n",
    "root.insert(19)\n",
    "\n",
    "\n",
    "root.PrintTree()"
   ]
  },
  {
   "cell_type": "markdown",
   "id": "6e3ef31f",
   "metadata": {},
   "source": [
    "### How to search through the tree to see if a value is in the tree structure?"
   ]
  },
  {
   "cell_type": "markdown",
   "id": "21c2c62b",
   "metadata": {},
   "source": [
    "To search a value in the tree: \n",
    "\n",
    "Traverse the node from left to right and with a parent."
   ]
  },
  {
   "cell_type": "markdown",
   "id": "b75c7c75",
   "metadata": {},
   "source": [
    "To see if a value is in the tree:\n",
    "\n",
    "From the root node, see \n",
    "\n",
    "- if the value = the node value, the value is found in the tree\n",
    "- if the value is lower than the node value, \n",
    "   - if the left node does not exist, return that the value is not in the tree\n",
    "   - if the left node exists, pass this value to the search function of the left node\n",
    "- if the value is larger than the node value, \n",
    "   - if the right node does not exist, return that the value is not in the tree\n",
    "   - if the right node exists, pass the value to the searhc function of the right node"
   ]
  },
  {
   "cell_type": "code",
   "execution_count": 36,
   "id": "29089bd4",
   "metadata": {},
   "outputs": [],
   "source": [
    "class Node:\n",
    "\n",
    "    def __init__(self, data):\n",
    "\n",
    "        self.left = None\n",
    "        self.right = None\n",
    "        self.data = data\n",
    "\n",
    "# Insert method to create nodes\n",
    "    def insert(self, data):\n",
    "\n",
    "        if self.data:\n",
    "            if data < self.data:\n",
    "                if self.left is None:\n",
    "                    self.left = Node(data)\n",
    "                else:\n",
    "                    self.left.insert(data)\n",
    "            elif data > self.data:\n",
    "                if self.right is None:\n",
    "                    self.right = Node(data)\n",
    "                else:\n",
    "                    self.right.insert(data)\n",
    "        else:\n",
    "            self.data = data\n",
    "# findval method to compare the value with nodes\n",
    "\n",
    "    def findval(self, lkpval):\n",
    "        if lkpval < self.data:\n",
    "            if self.left is None:\n",
    "                return str(lkpval)+\" is not Found\"\n",
    "            return self.left.findval(lkpval)\n",
    "        elif lkpval > self.data:\n",
    "            if self.right is None:\n",
    "                return str(lkpval)+\" is not Found\"\n",
    "            return self.right.findval(lkpval)\n",
    "        else:\n",
    "            return str(self.data) + \" is found\"\n",
    "\n",
    "# Print the tree\n",
    "\n",
    "    def PrintTree(self):\n",
    "        if self.left:\n",
    "            self.left.PrintTree()\n",
    "        print(self.data),\n",
    "        if self.right:\n",
    "            self.right.PrintTree()\n",
    "\n"
   ]
  },
  {
   "cell_type": "code",
   "execution_count": 37,
   "id": "22d33b4b",
   "metadata": {},
   "outputs": [
    {
     "name": "stdout",
     "output_type": "stream",
     "text": [
      "7 is not Found\n",
      "14 is found\n"
     ]
    }
   ],
   "source": [
    "root = Node(27)\n",
    "root.insert(14)\n",
    "root.insert(35)\n",
    "root.insert(31)\n",
    "root.insert(10)\n",
    "root.insert(19)\n",
    "print(root.findval(7))\n",
    "print(root.findval(14))"
   ]
  },
  {
   "cell_type": "code",
   "execution_count": null,
   "id": "9a27a49a",
   "metadata": {},
   "outputs": [],
   "source": []
  }
 ],
 "metadata": {
  "kernelspec": {
   "display_name": "Python 3",
   "language": "python",
   "name": "python3"
  },
  "language_info": {
   "codemirror_mode": {
    "name": "ipython",
    "version": 3
   },
   "file_extension": ".py",
   "mimetype": "text/x-python",
   "name": "python",
   "nbconvert_exporter": "python",
   "pygments_lexer": "ipython3",
   "version": "3.8.8"
  }
 },
 "nbformat": 4,
 "nbformat_minor": 5
}
